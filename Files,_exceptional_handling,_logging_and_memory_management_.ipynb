{
  "nbformat": 4,
  "nbformat_minor": 0,
  "metadata": {
    "colab": {
      "provenance": []
    },
    "kernelspec": {
      "name": "python3",
      "display_name": "Python 3"
    },
    "language_info": {
      "name": "python"
    }
  },
  "cells": [
    {
      "cell_type": "markdown",
      "source": [
        "# **FILES, EXCEPTIONAL HANDLING, LOGGING AND MEMORY MANAGEMENT QUESTIONS**"
      ],
      "metadata": {
        "id": "ieERp0VZRw92"
      }
    },
    {
      "cell_type": "markdown",
      "source": [
        "1.**What is the difference between interpreted and compiled languages**"
      ],
      "metadata": {
        "id": "HHZKGV-LRw6-"
      }
    },
    {
      "cell_type": "markdown",
      "source": [
        "*   *INTERPRETED LANGUAGE : in interpreted language the code is executed line by line which means that code is executed directly without seperate compliation step to convert into machine code*\n",
        "         example ; pyhton .\n",
        "*   *COMPLIED LANGUAGES : in complied language the source code is transformed into machine code by compile*\n",
        "         example ; c , c++ .\n"
      ],
      "metadata": {
        "id": "pzwDxWlrRw2l"
      }
    },
    {
      "cell_type": "markdown",
      "source": [
        "\n",
        "\n",
        "---\n",
        "\n"
      ],
      "metadata": {
        "id": "TVJsyPmBRwyG"
      }
    },
    {
      "cell_type": "markdown",
      "source": [
        "2.**What is exception handling in Python**"
      ],
      "metadata": {
        "id": "zMZ0Eq-SRwuS"
      }
    },
    {
      "cell_type": "markdown",
      "source": [
        "*python stop the program and generate exception handling whenever exception occure and this exception advice everycode that is riskey use exception handling*"
      ],
      "metadata": {
        "id": "mkKgYi_YRwqe"
      }
    },
    {
      "cell_type": "markdown",
      "source": [
        "\n",
        "\n",
        "---\n",
        "\n"
      ],
      "metadata": {
        "id": "vpR-p-HyRwne"
      }
    },
    {
      "cell_type": "markdown",
      "source": [
        "3.**What is the purpose of the finally block in exception handling?**"
      ],
      "metadata": {
        "id": "sKa5XJBpRwjj"
      }
    },
    {
      "cell_type": "markdown",
      "source": [
        "*finally block use to ensure that certain code runs whether an exception is raised or not.*"
      ],
      "metadata": {
        "id": "REukHVngRwgH"
      }
    },
    {
      "cell_type": "markdown",
      "source": [
        "\n",
        "\n",
        "---\n",
        "\n"
      ],
      "metadata": {
        "id": "v8SplxA6Rwcp"
      }
    },
    {
      "cell_type": "markdown",
      "source": [
        "4.**What is logging in Python?**"
      ],
      "metadata": {
        "id": "hkxdNqotRwZT"
      }
    },
    {
      "cell_type": "markdown",
      "source": [
        "*logging records the state and flow of  program and is useful for understanding, monitoring of code*"
      ],
      "metadata": {
        "id": "jKFhSzrxRwWa"
      }
    },
    {
      "cell_type": "markdown",
      "source": [
        "\n",
        "\n",
        "---\n",
        "\n"
      ],
      "metadata": {
        "id": "1BWss0TdRwR4"
      }
    },
    {
      "cell_type": "markdown",
      "source": [
        "5.**What is the significance of the __del __ method in Python?**"
      ],
      "metadata": {
        "id": "UXK3MgcmRwOY"
      }
    },
    {
      "cell_type": "markdown",
      "source": [
        "*The __del __ method is used to define cleanup behavior when an object is about to be destroyed.*"
      ],
      "metadata": {
        "id": "1b-6UEoWRwLX"
      }
    },
    {
      "cell_type": "markdown",
      "source": [
        "\n",
        "\n",
        "---\n",
        "\n"
      ],
      "metadata": {
        "id": "nhSE-vj_RwCm"
      }
    },
    {
      "cell_type": "markdown",
      "source": [
        "6.**What is the difference between import and from ... import in Python?**"
      ],
      "metadata": {
        "id": "xLKV8-T4Rv-Y"
      }
    },
    {
      "cell_type": "markdown",
      "source": [
        "*   *IMPORT : access of all the function from the module can be achive by this but use the module name to refrence them*\n",
        "\n",
        "\n",
        "*   *FROM...IMPORT : it allows to import specific function which can use dirctly without the module name*\n",
        "\n"
      ],
      "metadata": {
        "id": "bxM__7ZURv7X"
      }
    },
    {
      "cell_type": "markdown",
      "source": [
        "\n",
        "\n",
        "---\n",
        "\n"
      ],
      "metadata": {
        "id": "cv3jQXajRv4f"
      }
    },
    {
      "cell_type": "markdown",
      "source": [
        "7.**How can you handle multiple exceptions in Python?**"
      ],
      "metadata": {
        "id": "INXEpdkmRv16"
      }
    },
    {
      "cell_type": "markdown",
      "source": [
        "*multiple exception in python can be handled by using *\n",
        "\n",
        "*   *separate block for each exception*\n",
        "*   *by listing multiple exceptions in a tuple within a single except block for cleaner code.*\n",
        "\n"
      ],
      "metadata": {
        "id": "pSlR-xT5Ru91"
      }
    },
    {
      "cell_type": "markdown",
      "source": [
        "\n",
        "\n",
        "---\n",
        "\n"
      ],
      "metadata": {
        "id": "yPJYhMdeRu6P"
      }
    },
    {
      "cell_type": "markdown",
      "source": [
        "8.**What is the purpose of the with statement when handling files in Python?**"
      ],
      "metadata": {
        "id": "ziFWeMdORu3g"
      }
    },
    {
      "cell_type": "markdown",
      "source": [
        "*with statment ensures that the file is closed properly after the block of code is executed*"
      ],
      "metadata": {
        "id": "AkGrgDKLRu0A"
      }
    },
    {
      "cell_type": "markdown",
      "source": [
        "\n",
        "\n",
        "---\n",
        "\n"
      ],
      "metadata": {
        "id": "4nJB34-QRuw_"
      }
    },
    {
      "cell_type": "markdown",
      "source": [
        "9.**What is the difference between multithreading and multiprocessing?**"
      ],
      "metadata": {
        "id": "q_ikImumRut1"
      }
    },
    {
      "cell_type": "markdown",
      "source": [
        "*   *MULTITHREADING : process runs on multiple threads in singe processor ; all threads share the same memory*\n",
        "                      \n",
        "*   *MULTIPROCESSING : process runs parallely on multiple processors ;  and each have own memory*\n",
        "\n"
      ],
      "metadata": {
        "id": "Nb0gTPTeRuqf"
      }
    },
    {
      "cell_type": "markdown",
      "source": [
        "\n",
        "\n",
        "---\n",
        "\n"
      ],
      "metadata": {
        "id": "XpvFOobVRunw"
      }
    },
    {
      "cell_type": "markdown",
      "source": [
        "10.**What are the advantages of using logging in a program?**"
      ],
      "metadata": {
        "id": "Z07gV26jRujY"
      }
    },
    {
      "cell_type": "markdown",
      "source": [
        "*Logging helps in tracking of errors ; save information ; control output ;debug easily without interrupting the program , which improves the code management.*"
      ],
      "metadata": {
        "id": "yZItNGCoRugZ"
      }
    },
    {
      "cell_type": "markdown",
      "source": [
        "\n",
        "\n",
        "---\n",
        "\n"
      ],
      "metadata": {
        "id": "3l4rPD2XRudM"
      }
    },
    {
      "cell_type": "markdown",
      "source": [
        "11.**What is memory management in Python?**"
      ],
      "metadata": {
        "id": "yQFUCJ9uRuaL"
      }
    },
    {
      "cell_type": "markdown",
      "source": [
        "*Memory management in Python automatically manages memory by allocating and freeing up space. It uses garbage collection to remove unused objects, making programs run efficiently.*"
      ],
      "metadata": {
        "id": "liwKrZRFRuXw"
      }
    },
    {
      "cell_type": "markdown",
      "source": [
        "\n",
        "\n",
        "---\n",
        "\n"
      ],
      "metadata": {
        "id": "BgAsfezURuU3"
      }
    },
    {
      "cell_type": "markdown",
      "source": [
        "12.**What are the basic steps involved in exception handling in Python?**"
      ],
      "metadata": {
        "id": "i-neJjKgRuRu"
      }
    },
    {
      "cell_type": "markdown",
      "source": [
        "*steps involve exception handling in python are :-*\n",
        "     \n",
        "\n",
        "1.   *try*\n",
        "2.   *except*\n",
        "3.   *else*\n",
        "4.   *finally*\n",
        "\n"
      ],
      "metadata": {
        "id": "NFMA5ayPRuPl"
      }
    },
    {
      "cell_type": "markdown",
      "source": [
        "\n",
        "\n",
        "---\n",
        "\n"
      ],
      "metadata": {
        "id": "JDNqrfWGRuJG"
      }
    },
    {
      "cell_type": "markdown",
      "source": [
        "13.**Why is memory management important in Python?**"
      ],
      "metadata": {
        "id": "AFMiNk4RRuFM"
      }
    },
    {
      "cell_type": "markdown",
      "source": [
        "*memory management is important in python because it helps the use of memoey efficiently and freeup space automatically , reduce error related to memory usege*"
      ],
      "metadata": {
        "id": "R8lwvOIsxS_7"
      }
    },
    {
      "cell_type": "markdown",
      "source": [
        "\n",
        "\n",
        "---\n",
        "\n"
      ],
      "metadata": {
        "id": "by2Fwcp5xS8V"
      }
    },
    {
      "cell_type": "markdown",
      "source": [
        "14.**What is the role of try and except in exception handling?**"
      ],
      "metadata": {
        "id": "BYjg9rI9xS5y"
      }
    },
    {
      "cell_type": "markdown",
      "source": [
        "*   *TRY in exception handling run the code that might cause an error.*\n",
        "*   *EXCEPT catch the error and handles it and prevent the program from error.*\n",
        "\n"
      ],
      "metadata": {
        "id": "MKGCmroUxS3D"
      }
    },
    {
      "cell_type": "markdown",
      "source": [
        "\n",
        "\n",
        "---\n",
        "\n"
      ],
      "metadata": {
        "id": "nb_DB4ANxS0h"
      }
    },
    {
      "cell_type": "markdown",
      "source": [
        "15.**How does Python's garbage collection system work?**"
      ],
      "metadata": {
        "id": "M5CZtlVOxSx9"
      }
    },
    {
      "cell_type": "markdown",
      "source": [
        "*python's garbage collection system automatically frees the memory by deleting unused data*"
      ],
      "metadata": {
        "id": "sm1Q_vPqxSvQ"
      }
    },
    {
      "cell_type": "markdown",
      "source": [
        "\n",
        "\n",
        "---\n",
        "\n"
      ],
      "metadata": {
        "id": "VKu6i5mZxSs0"
      }
    },
    {
      "cell_type": "markdown",
      "source": [
        "16.**What is the purpose of the else block in exception handling?**"
      ],
      "metadata": {
        "id": "pUVG4uqaxSqa"
      }
    },
    {
      "cell_type": "markdown",
      "source": [
        "*else block execute some code only if the try statement is successful and code doent enter into exception block*"
      ],
      "metadata": {
        "id": "h4UvbYBSxSoC"
      }
    },
    {
      "cell_type": "markdown",
      "source": [
        "\n",
        "\n",
        "---\n",
        "\n"
      ],
      "metadata": {
        "id": "YAN9dpjJxSld"
      }
    },
    {
      "cell_type": "markdown",
      "source": [
        "17.**What are the common logging levels in Python?**"
      ],
      "metadata": {
        "id": "H3twmkTixSiy"
      }
    },
    {
      "cell_type": "markdown",
      "source": [
        "\n",
        "\n",
        "*   *DEBUG :lowest level of logging. give detailed information of any variable, while doing debugging*\n",
        "*   *INFO :This is used to convey the code is working as expected.*\n",
        "\n",
        "*   *WARNING :Used to indicate that something unexpected happend in the code.*\n",
        "\n",
        "*   *ERROR :Errors that affect the program.*\n",
        "*   *CRITICAL :Termination of program.*"
      ],
      "metadata": {
        "id": "liy2oyGfxSgV"
      }
    },
    {
      "cell_type": "markdown",
      "source": [
        "\n",
        "\n",
        "---\n",
        "\n"
      ],
      "metadata": {
        "id": "45Y1R1pIxSeO"
      }
    },
    {
      "cell_type": "markdown",
      "source": [
        "18.**What is the difference between os.fork() and multiprocessing in Python?**"
      ],
      "metadata": {
        "id": "nNC5w4u7xSbq"
      }
    },
    {
      "cell_type": "markdown",
      "source": [
        "*   *os.fork() : it use to creat new process by useing previous one*\n",
        "*   *multiprocessing : it creat separate process that run on diffrent cores*\n",
        "\n"
      ],
      "metadata": {
        "id": "x4YGTUWnxSZh"
      }
    },
    {
      "cell_type": "markdown",
      "source": [
        "\n",
        "\n",
        "---\n",
        "\n"
      ],
      "metadata": {
        "id": "U_ah7UzjxSWh"
      }
    },
    {
      "cell_type": "markdown",
      "source": [
        "19.**What is the importance of closing a file in Python?**"
      ],
      "metadata": {
        "id": "9HxfKn7zxSUS"
      }
    },
    {
      "cell_type": "markdown",
      "source": [
        "*closing a file in python isimportant because it avoid errors , prevent data loss, frees recorces*"
      ],
      "metadata": {
        "id": "nIMbimrPxSSF"
      }
    },
    {
      "cell_type": "markdown",
      "source": [
        "\n",
        "\n",
        "---\n",
        "\n"
      ],
      "metadata": {
        "id": "hmhfJ2Q6xSPx"
      }
    },
    {
      "cell_type": "markdown",
      "source": [
        "20.**What is the difference between file.read() and file.readline() in Python?**"
      ],
      "metadata": {
        "id": "DKCaz2O7xSNk"
      }
    },
    {
      "cell_type": "markdown",
      "source": [
        "*   *FILE.READ() : it read everything in the file*\n",
        "*   *FILE.READLINE() : it reads only one line in a file*\n",
        "\n"
      ],
      "metadata": {
        "id": "3Po9NtbixSLa"
      }
    },
    {
      "cell_type": "markdown",
      "source": [
        "\n",
        "\n",
        "---\n",
        "\n"
      ],
      "metadata": {
        "id": "YVueHPgxycEv"
      }
    },
    {
      "cell_type": "markdown",
      "source": [
        "21.**What is the logging module in Python used for?**"
      ],
      "metadata": {
        "id": "l2aQa6Zfyc4G"
      }
    },
    {
      "cell_type": "markdown",
      "source": [
        "*the logging module in python used for track massages and error in program and it allows to record diffrent type of massages and save for later review.*"
      ],
      "metadata": {
        "id": "x9TQ4YIeyc8q"
      }
    },
    {
      "cell_type": "markdown",
      "source": [
        "\n",
        "\n",
        "---\n",
        "\n"
      ],
      "metadata": {
        "id": "8uFT0dWsydsV"
      }
    },
    {
      "cell_type": "markdown",
      "source": [
        "22.**What is the os module in Python used for in file handling?**"
      ],
      "metadata": {
        "id": "uhj65tWeyfF7"
      }
    },
    {
      "cell_type": "markdown",
      "source": [
        "*os module in python use to intrect with operating system and in file handling it helps to change direction , list of file in folders , delete or rename file*"
      ],
      "metadata": {
        "id": "MIbluaIoye_Y"
      }
    },
    {
      "cell_type": "markdown",
      "source": [
        "\n",
        "\n",
        "---\n",
        "\n"
      ],
      "metadata": {
        "id": "yxDTpxt_ye2z"
      }
    },
    {
      "cell_type": "markdown",
      "source": [
        "23.**What are the challenges associated with memory management in Python?**"
      ],
      "metadata": {
        "id": "U6av6KjqyeRe"
      }
    },
    {
      "cell_type": "markdown",
      "source": [
        "*challenges in memory management include inefficient garbage collection ; memory leak ; memory fragmentation  and managing large data structures effectively.*"
      ],
      "metadata": {
        "id": "ce1_EGtsyx7B"
      }
    },
    {
      "cell_type": "markdown",
      "source": [
        "\n",
        "\n",
        "---\n",
        "\n"
      ],
      "metadata": {
        "id": "EoTsPAc2yx15"
      }
    },
    {
      "cell_type": "markdown",
      "source": [
        "24.**How do you raise an exception manually in Python?**"
      ],
      "metadata": {
        "id": "3cSNCBU2yxxr"
      }
    },
    {
      "cell_type": "markdown",
      "source": [
        "*to raise an exception manually in python ues raise keyword and an error massage*"
      ],
      "metadata": {
        "id": "yr8jqaexyxsa"
      }
    },
    {
      "cell_type": "code",
      "source": [
        "raise valueError (\"air is running\")"
      ],
      "metadata": {
        "colab": {
          "base_uri": "https://localhost:8080/",
          "height": 265
        },
        "id": "t_uv4zirTWjg",
        "outputId": "007dd1de-b8ed-46c8-da71-a847707b05cb"
      },
      "execution_count": 2,
      "outputs": [
        {
          "output_type": "error",
          "ename": "NameError",
          "evalue": "name 'valueError' is not defined",
          "traceback": [
            "\u001b[0;31m---------------------------------------------------------------------------\u001b[0m",
            "\u001b[0;31mNameError\u001b[0m                                 Traceback (most recent call last)",
            "\u001b[0;32m<ipython-input-1-6ca31dafb6ae>\u001b[0m in \u001b[0;36m<cell line: 1>\u001b[0;34m()\u001b[0m\n\u001b[0;32m----> 1\u001b[0;31m \u001b[0;32mraise\u001b[0m \u001b[0mvalueError\u001b[0m \u001b[0;34m(\u001b[0m\u001b[0;34m\"air is running\"\u001b[0m\u001b[0;34m)\u001b[0m\u001b[0;34m\u001b[0m\u001b[0;34m\u001b[0m\u001b[0m\n\u001b[0m",
            "\u001b[0;31mNameError\u001b[0m: name 'valueError' is not defined"
          ]
        },
        {
          "output_type": "error",
          "ename": "NameError",
          "evalue": "name 'valueError' is not defined",
          "traceback": [
            "\u001b[0;31m---------------------------------------------------------------------------\u001b[0m",
            "\u001b[0;31mNameError\u001b[0m                                 Traceback (most recent call last)",
            "\u001b[0;32m<ipython-input-2-6ca31dafb6ae>\u001b[0m in \u001b[0;36m<cell line: 1>\u001b[0;34m()\u001b[0m\n\u001b[0;32m----> 1\u001b[0;31m \u001b[0;32mraise\u001b[0m \u001b[0mvalueError\u001b[0m \u001b[0;34m(\u001b[0m\u001b[0;34m\"air is running\"\u001b[0m\u001b[0;34m)\u001b[0m\u001b[0;34m\u001b[0m\u001b[0;34m\u001b[0m\u001b[0m\n\u001b[0m",
            "\u001b[0;31mNameError\u001b[0m: name 'valueError' is not defined"
          ]
        }
      ]
    },
    {
      "cell_type": "markdown",
      "source": [
        "\n",
        "\n",
        "---\n",
        "\n"
      ],
      "metadata": {
        "id": "J47LizCVyxm_"
      }
    },
    {
      "cell_type": "markdown",
      "source": [
        "25.**Why is it important to use multithreading in certain applications?**"
      ],
      "metadata": {
        "id": "2LDTm7mGyxg0"
      }
    },
    {
      "cell_type": "markdown",
      "source": [
        "*using of multithreading in certain application can improve performence by allowing conicutive exicution of program*"
      ],
      "metadata": {
        "id": "Lpv0RpNXyxa0"
      }
    },
    {
      "cell_type": "markdown",
      "source": [
        "\n",
        "\n",
        "---\n",
        "\n"
      ],
      "metadata": {
        "id": "lAPdMvC7yxVY"
      }
    },
    {
      "cell_type": "markdown",
      "source": [
        "\n",
        "\n",
        "---\n",
        "\n"
      ],
      "metadata": {
        "id": "hyZEGKZgyxQx"
      }
    },
    {
      "cell_type": "markdown",
      "source": [
        "\n",
        "\n",
        "---\n",
        "\n"
      ],
      "metadata": {
        "id": "EmjB8FrzyxKR"
      }
    },
    {
      "cell_type": "markdown",
      "source": [
        "# **Practical Questions**"
      ],
      "metadata": {
        "id": "QIQ0asjFyxCB"
      }
    },
    {
      "cell_type": "markdown",
      "source": [
        "1.**How can you open a file for writing in Python and write a string to it?**"
      ],
      "metadata": {
        "id": "fDh-F3781jWn"
      }
    },
    {
      "cell_type": "code",
      "source": [
        "with open('file.txt', 'w') as file:\n",
        "    file.write('Hello, world!')"
      ],
      "metadata": {
        "id": "-YkWccTV1s2a"
      },
      "execution_count": 3,
      "outputs": []
    },
    {
      "cell_type": "markdown",
      "source": [
        "\n",
        "\n",
        "---\n",
        "\n"
      ],
      "metadata": {
        "id": "oRT04Jek1u5G"
      }
    },
    {
      "cell_type": "markdown",
      "source": [
        "2.**Write a Python program to read the contents of a file and print each line.**"
      ],
      "metadata": {
        "id": "B6Q88rov1urQ"
      }
    },
    {
      "cell_type": "code",
      "source": [
        "with open('file.txt', 'r') as file:\n",
        "    lines = file.readlines()\n",
        "    for line in lines:\n",
        "        print(line.strip())"
      ],
      "metadata": {
        "id": "WXT2J2X114n9",
        "colab": {
          "base_uri": "https://localhost:8080/"
        },
        "outputId": "6fc68c44-8b8e-4355-90f5-388e9d4757d3"
      },
      "execution_count": 4,
      "outputs": [
        {
          "output_type": "stream",
          "name": "stdout",
          "text": [
            "Hello, world!\n"
          ]
        }
      ]
    },
    {
      "cell_type": "markdown",
      "source": [
        "\n",
        "\n",
        "---\n",
        "\n"
      ],
      "metadata": {
        "id": "9zyi5yFL15Td"
      }
    },
    {
      "cell_type": "markdown",
      "source": [
        "3.**How would you handle a case where the file doesn't exist while trying to open it for reading.**"
      ],
      "metadata": {
        "id": "oK2_bSap15Gq"
      }
    },
    {
      "cell_type": "code",
      "source": [
        "try:\n",
        "    with open('nonexistent_file.txt', 'r') as file:\n",
        "        content = file.read()\n",
        "except FileNotFoundError:\n",
        "    print(\"File not found.\")"
      ],
      "metadata": {
        "id": "sNrRmh782CE8",
        "colab": {
          "base_uri": "https://localhost:8080/"
        },
        "outputId": "40546db8-6aca-48ee-e90b-06c4e50b0476"
      },
      "execution_count": 5,
      "outputs": [
        {
          "output_type": "stream",
          "name": "stdout",
          "text": [
            "File not found.\n"
          ]
        }
      ]
    },
    {
      "cell_type": "markdown",
      "source": [
        "\n",
        "\n",
        "---\n",
        "\n"
      ],
      "metadata": {
        "id": "iUqYMQ2G2Cna"
      }
    },
    {
      "cell_type": "markdown",
      "source": [
        "4.**Write a Python script that reads from one file and writes its content to another file?**"
      ],
      "metadata": {
        "id": "De4kqc1M2ChQ"
      }
    },
    {
      "cell_type": "code",
      "source": [
        "with open('input.txt', 'r') as input_file:\n",
        "    content = input_file.read()\n",
        "\n",
        "with open('output.txt', 'w') as output_file:\n",
        "    output_file.write(content)"
      ],
      "metadata": {
        "id": "6CzedTkF2JQ-"
      },
      "execution_count": null,
      "outputs": []
    },
    {
      "cell_type": "markdown",
      "source": [
        "5.**How would you catch and handle division by zero error in Python.**"
      ],
      "metadata": {
        "id": "QTYwJV4Q2JwR"
      }
    },
    {
      "cell_type": "code",
      "source": [
        "try:\n",
        "  result = 10 / 0\n",
        "except ZeroDivisionError:\n",
        "    print(\"error\")\n",
        "else:\n",
        "    print(result)"
      ],
      "metadata": {
        "id": "zRpfmxkH2STe",
        "colab": {
          "base_uri": "https://localhost:8080/"
        },
        "outputId": "7a34af69-1647-4855-c036-195d12482335"
      },
      "execution_count": 12,
      "outputs": [
        {
          "output_type": "stream",
          "name": "stdout",
          "text": [
            "error\n"
          ]
        }
      ]
    },
    {
      "cell_type": "markdown",
      "source": [
        "\n",
        "\n",
        "---\n",
        "\n"
      ],
      "metadata": {
        "id": "RthJdgH-2aOr"
      }
    },
    {
      "cell_type": "markdown",
      "source": [
        "6.**Write a Python program that logs an error message to a log file when a division by zero exception occurs.**"
      ],
      "metadata": {
        "id": "cGDaVm1C2aFE"
      }
    },
    {
      "cell_type": "code",
      "source": [
        "import logging\n",
        "\n",
        "logging.basicConfig(filename='error.log', level=logging.ERROR)\n",
        "\n",
        "try:\n",
        "    result = 10 / 0\n",
        "except ZeroDivisionError:\n",
        "    logging.error(\"Division by zero error occurred.\")\n",
        "    print(\"error\")\n",
        "else:\n",
        "    print(result)"
      ],
      "metadata": {
        "id": "u33Q_Mhm2nUt",
        "colab": {
          "base_uri": "https://localhost:8080/"
        },
        "outputId": "c7503abd-e1ee-4460-e1c7-da71d815f831"
      },
      "execution_count": 13,
      "outputs": [
        {
          "output_type": "stream",
          "name": "stderr",
          "text": [
            "ERROR:root:Division by zero error occurred.\n"
          ]
        },
        {
          "output_type": "stream",
          "name": "stdout",
          "text": [
            "error\n"
          ]
        }
      ]
    },
    {
      "cell_type": "markdown",
      "source": [
        "\n",
        "\n",
        "---\n",
        "\n"
      ],
      "metadata": {
        "id": "CoChKV4i2n6e"
      }
    },
    {
      "cell_type": "markdown",
      "source": [
        "7.**How do you log information at different levels (INFO, ERROR, WARNING) in Python using the logging module?**"
      ],
      "metadata": {
        "id": "LAxsHuhe2nre"
      }
    },
    {
      "cell_type": "code",
      "source": [
        "import logging\n",
        "\n",
        "logging.basicConfig(filename='log.txt', level=logging.INFO)\n",
        "\n",
        "logging.info(\"This is an informational message.\")\n",
        "logging.error(\"This is an error message.\")\n",
        "logging.warning(\"This is a warning message.\")\n",
        "logging.debug(\"This is a debug message.\")\n",
        "logging.critical(\"This is a critical message.\")"
      ],
      "metadata": {
        "id": "0vj28QKN2zjk",
        "colab": {
          "base_uri": "https://localhost:8080/"
        },
        "outputId": "99e71775-9ad8-4bbc-e267-b8aad779f8a9"
      },
      "execution_count": 14,
      "outputs": [
        {
          "output_type": "stream",
          "name": "stderr",
          "text": [
            "ERROR:root:This is an error message.\n",
            "WARNING:root:This is a warning message.\n",
            "CRITICAL:root:This is a critical message.\n"
          ]
        }
      ]
    },
    {
      "cell_type": "markdown",
      "source": [
        "\n",
        "\n",
        "---\n",
        "\n"
      ],
      "metadata": {
        "id": "nDAlqppu20Dx"
      }
    },
    {
      "cell_type": "markdown",
      "source": [
        "8.**Write a program to handle a file opening error using exception handling.**"
      ],
      "metadata": {
        "id": "AFg7rBGl21Sp"
      }
    },
    {
      "cell_type": "code",
      "source": [
        "try:\n",
        "    with open('nonexistent_file.txt', 'r') as file:\n",
        "        content = file.read()\n",
        "except FileNotFoundError:\n",
        "    print(\"File not found.\")\n",
        "    print(\"error\")\n",
        "else:\n",
        "    print(content)"
      ],
      "metadata": {
        "id": "05egEJc62-YZ",
        "colab": {
          "base_uri": "https://localhost:8080/"
        },
        "outputId": "18c4c2a8-a94c-4162-b0c8-068883b5fef2"
      },
      "execution_count": 15,
      "outputs": [
        {
          "output_type": "stream",
          "name": "stdout",
          "text": [
            "File not found.\n",
            "error\n"
          ]
        }
      ]
    },
    {
      "cell_type": "markdown",
      "source": [
        "\n",
        "\n",
        "---\n",
        "\n"
      ],
      "metadata": {
        "id": "qm3ftlNU2_G4"
      }
    },
    {
      "cell_type": "markdown",
      "source": [
        "9.**How can you read a file line by line and store its content in a list in Python?**"
      ],
      "metadata": {
        "id": "-d1vyuBD2-3X"
      }
    },
    {
      "cell_type": "code",
      "source": [
        "with open('file.txt', 'r') as file:\n",
        "    lines = file.readlines()\n",
        "    for line in lines:\n",
        "        print(line.strip())"
      ],
      "metadata": {
        "id": "d77otMCo3ISi",
        "colab": {
          "base_uri": "https://localhost:8080/"
        },
        "outputId": "0955ba41-7ffb-46e8-a75e-0ae094bf79da"
      },
      "execution_count": 16,
      "outputs": [
        {
          "output_type": "stream",
          "name": "stdout",
          "text": [
            "Hello, world!\n"
          ]
        }
      ]
    },
    {
      "cell_type": "markdown",
      "source": [
        "\n",
        "\n",
        "---\n",
        "\n"
      ],
      "metadata": {
        "id": "PAnxVE5E3I2-"
      }
    },
    {
      "cell_type": "markdown",
      "source": [
        "10.**How can you append data to an existing file in Python?**"
      ],
      "metadata": {
        "id": "n2jo7R2U3Ipv"
      }
    },
    {
      "cell_type": "code",
      "source": [
        "with open('file.txt', 'a') as file:\n",
        "    file.write('\\nNew line of text.')"
      ],
      "metadata": {
        "id": "M4P_yC6r3RiV"
      },
      "execution_count": 19,
      "outputs": []
    },
    {
      "cell_type": "markdown",
      "source": [
        "\n",
        "\n",
        "---\n",
        "\n"
      ],
      "metadata": {
        "id": "mYM-pmDl3STW"
      }
    },
    {
      "cell_type": "markdown",
      "source": [
        "11.**Write a Python program that uses a try-except block to handle an error when attempting to access a\n",
        "dictionary key that doesn't exist.**"
      ],
      "metadata": {
        "id": "pCIh0mG23SGR"
      }
    },
    {
      "cell_type": "code",
      "source": [
        "my_dict = {'a': 1, 'b': 2, 'c': 3}\n",
        "\n",
        "try:\n",
        "    value = my_dict['d']\n",
        "except KeyError:\n",
        "    print(\"Key not found in the dictionary.\")\n",
        "else:\n",
        "    print(value)"
      ],
      "metadata": {
        "id": "PFRYX--s3aC9",
        "colab": {
          "base_uri": "https://localhost:8080/"
        },
        "outputId": "483b3eee-809f-46f7-d957-69b70c6a2968"
      },
      "execution_count": 24,
      "outputs": [
        {
          "output_type": "stream",
          "name": "stdout",
          "text": [
            "Key not found in the dictionary.\n"
          ]
        }
      ]
    },
    {
      "cell_type": "markdown",
      "source": [
        "\n",
        "\n",
        "---\n",
        "\n"
      ],
      "metadata": {
        "id": "svixny5P3bFw"
      }
    },
    {
      "cell_type": "markdown",
      "source": [
        "12.**Write a program that demonstrates using multiple except blocks to handle different types of exceptions.**"
      ],
      "metadata": {
        "id": "mYYrgxXN3aoa"
      }
    },
    {
      "cell_type": "code",
      "source": [
        "try:\n",
        "    num = int(input(\"Enter a number: \"))\n",
        "    result = 10 / num\n",
        "except ValueError:\n",
        "    print(\"Invalid input. Please enter a valid number.\")\n",
        "except ZeroDivisionError:\n",
        "    print(\"Cannot divide by zero.\")\n",
        "    print(\"error\")\n",
        "else:\n",
        "    print(\"Result:\", result)"
      ],
      "metadata": {
        "colab": {
          "base_uri": "https://localhost:8080/"
        },
        "id": "4mz3ZP9hPqkl",
        "outputId": "87f0cb1a-8128-4e9c-f8a0-9100fe8db8ae"
      },
      "execution_count": 26,
      "outputs": [
        {
          "output_type": "stream",
          "name": "stdout",
          "text": [
            "Enter a number: 4\n",
            "Result: 2.5\n"
          ]
        }
      ]
    },
    {
      "cell_type": "markdown",
      "source": [
        "\n",
        "\n",
        "---\n",
        "\n"
      ],
      "metadata": {
        "id": "nIv-LVlW3ltg"
      }
    },
    {
      "cell_type": "markdown",
      "source": [
        "13.**How would you check if a file exists before attempting to read it in Python?**"
      ],
      "metadata": {
        "id": "wok4N-bZ3lgR"
      }
    },
    {
      "cell_type": "code",
      "source": [
        "import os\n",
        "\n",
        "file_path = 'file.txt'\n",
        "\n",
        "if os.path.exists(file_path):\n",
        "    with open(file_path, 'r') as file:\n",
        "        content = file.read()\n",
        "        print(content)\n",
        "        print(\"error\")\n",
        "else:\n",
        "    print(\"File does not exist.\")"
      ],
      "metadata": {
        "id": "HoIfIYKS3ujJ",
        "colab": {
          "base_uri": "https://localhost:8080/"
        },
        "outputId": "1ef4efaf-3fdf-4dbe-d638-155c74b75429"
      },
      "execution_count": 30,
      "outputs": [
        {
          "output_type": "stream",
          "name": "stdout",
          "text": [
            "Hello, world!\n",
            "New line of text.\n",
            "New line of text.\n",
            "error\n"
          ]
        }
      ]
    },
    {
      "cell_type": "markdown",
      "source": [
        "\n",
        "\n",
        "---\n",
        "\n"
      ],
      "metadata": {
        "id": "yolFGvsi3vSZ"
      }
    },
    {
      "cell_type": "markdown",
      "source": [
        "14.**Write a program that uses the logging module to log both informational and error messages.**"
      ],
      "metadata": {
        "id": "B9b3jIrj3vD4"
      }
    },
    {
      "cell_type": "code",
      "source": [
        "import logging\n",
        "\n",
        "logging.basicConfig(filename='log.txt', level=logging.INFO)\n",
        "\n",
        "logging.info(\"This is an informational message.\")\n",
        "logging.error(\"This is an error message.\")\n",
        "logging.warning(\"This is a warning message.\")\n",
        "logging.debug(\"This is a debug message.\")\n",
        "logging.critical(\"This is a critical message.\")\n",
        "\n",
        "try:\n",
        "    result = 10 / 0\n",
        "except ZeroDivisionError:\n",
        "    logging.error(\"Division by zero error occurred.\")\n",
        "    print(\"error\")\n",
        "else:\n",
        "    print(result)\n",
        "\n",
        "    logging.info(\"Program execution completed.\")"
      ],
      "metadata": {
        "id": "ajBpBGuS32yZ",
        "colab": {
          "base_uri": "https://localhost:8080/"
        },
        "outputId": "06077140-38a7-4e07-8ae5-bf7b701c75e0"
      },
      "execution_count": 31,
      "outputs": [
        {
          "output_type": "stream",
          "name": "stderr",
          "text": [
            "ERROR:root:This is an error message.\n",
            "WARNING:root:This is a warning message.\n",
            "CRITICAL:root:This is a critical message.\n",
            "ERROR:root:Division by zero error occurred.\n"
          ]
        },
        {
          "output_type": "stream",
          "name": "stdout",
          "text": [
            "error\n"
          ]
        }
      ]
    },
    {
      "cell_type": "markdown",
      "source": [
        "\n",
        "\n",
        "---\n",
        "\n"
      ],
      "metadata": {
        "id": "Ws42HEVs33Vp"
      }
    },
    {
      "cell_type": "markdown",
      "source": [
        "15.**Write a Python program that prints the content of a file and handles the case when the file is empty.**"
      ],
      "metadata": {
        "id": "aHUKd4WY33Qt"
      }
    },
    {
      "cell_type": "code",
      "source": [
        "file_path = 'file.txt'\n",
        "\n",
        "try:\n",
        "    with open(file_path, 'r') as file:\n",
        "        content = file.read()\n",
        "        if content:\n",
        "            print(content)\n",
        "        else:\n",
        "            print(\"The file is empty.\")\n",
        "            print(\"error\")\n",
        "except FileNotFoundError:\n",
        "    print(\"File not found.\")\n",
        "    print(\"error\")\n",
        "except Exception as e:\n",
        "    print(\"An error occurred:\", e)\n",
        "    print(\"error\")\n",
        ""
      ],
      "metadata": {
        "id": "W_JRQiK9390i",
        "colab": {
          "base_uri": "https://localhost:8080/"
        },
        "outputId": "797b5427-7283-4b97-8684-631fba69eb1d"
      },
      "execution_count": 32,
      "outputs": [
        {
          "output_type": "stream",
          "name": "stdout",
          "text": [
            "Hello, world!\n",
            "New line of text.\n",
            "New line of text.\n"
          ]
        }
      ]
    },
    {
      "cell_type": "markdown",
      "source": [
        "\n",
        "\n",
        "---\n",
        "\n"
      ],
      "metadata": {
        "id": "ruSOJj273-dR"
      }
    },
    {
      "cell_type": "markdown",
      "source": [
        "16.**Demonstrate how to use memory profiling to check the memory usage of a small program.**"
      ],
      "metadata": {
        "id": "ofCNymWX3-OH"
      }
    },
    {
      "cell_type": "code",
      "source": [
        "def generate_squares(limit):\n",
        "    squares = []\n",
        "    for i in range(limit):\n",
        "        squares.append(i * i)\n",
        "    return squares\n",
        "\n",
        "    if __name__ == \"__main__\":\n",
        "        import cProfile\n",
        "        cProfile.run(\"generate_squares(243000)\")"
      ],
      "metadata": {
        "id": "MxkOFfY64Jea"
      },
      "execution_count": 33,
      "outputs": []
    },
    {
      "cell_type": "markdown",
      "source": [
        "\n",
        "\n",
        "---\n",
        "\n"
      ],
      "metadata": {
        "id": "fIZClT2b4KBR"
      }
    },
    {
      "cell_type": "markdown",
      "source": [
        "17.**Write a Python program to create and write a list of numbers to a file, one number per line.**"
      ],
      "metadata": {
        "id": "EkvOL9BA4J6F"
      }
    },
    {
      "cell_type": "code",
      "source": [
        "numbers = [21,22, 23, 24, 25]\n",
        "\n",
        "with open('numbers.txt', 'w') as file:\n",
        "    for number in numbers:\n",
        "        file.write(str(number) + '\\n')\n",
        "        print(\"no.written to \")"
      ],
      "metadata": {
        "id": "iEhGE8FD4Sig",
        "colab": {
          "base_uri": "https://localhost:8080/"
        },
        "outputId": "4fc9956c-e121-4b2f-b105-92e700cf1cb2"
      },
      "execution_count": 34,
      "outputs": [
        {
          "output_type": "stream",
          "name": "stdout",
          "text": [
            "no.written to \n",
            "no.written to \n",
            "no.written to \n",
            "no.written to \n",
            "no.written to \n"
          ]
        }
      ]
    },
    {
      "cell_type": "markdown",
      "source": [
        "\n",
        "\n",
        "---\n",
        "\n"
      ],
      "metadata": {
        "id": "lf8J-Rie4Tb7"
      }
    },
    {
      "cell_type": "markdown",
      "source": [
        "18.**How would you implement a basic logging setup that logs to a file with rotation after 1MB?**"
      ],
      "metadata": {
        "id": "rGncq7Ql4TOJ"
      }
    },
    {
      "cell_type": "code",
      "source": [],
      "metadata": {
        "id": "Wc89_6_I4lQC"
      },
      "execution_count": null,
      "outputs": []
    },
    {
      "cell_type": "markdown",
      "source": [
        "\n",
        "\n",
        "---\n",
        "\n"
      ],
      "metadata": {
        "id": "5F_fnwGP4l6t"
      }
    },
    {
      "cell_type": "markdown",
      "source": [
        "19.**Write a program that handles both IndexError and KeyError using a try-except block.**"
      ],
      "metadata": {
        "id": "UCwIslLf4n6E"
      }
    },
    {
      "cell_type": "code",
      "source": [
        "my_list = [1, 2, 3]\n",
        "\n",
        "try:\n",
        "    value = my_list[3]\n",
        "except IndexError:\n",
        "    print(\"Index out of range.\")\n",
        "except KeyError:\n",
        "    print(\"Key not found in the dictionary.\")\n",
        "\n",
        "my_dict = {'a': 1, 'b': 2, 'c': 3}\n",
        "\n",
        "try:\n",
        "    value = my_dict['d']\n",
        "except KeyError:\n",
        "    print(\"Key not found in the dictionary.\")\n",
        "except IndexError:\n",
        "    print(\"Index out of range.\")"
      ],
      "metadata": {
        "id": "6emK3c3M4y_W",
        "colab": {
          "base_uri": "https://localhost:8080/"
        },
        "outputId": "41714615-809f-4b9b-a274-f955a764bde2"
      },
      "execution_count": 35,
      "outputs": [
        {
          "output_type": "stream",
          "name": "stdout",
          "text": [
            "Index out of range.\n",
            "Key not found in the dictionary.\n"
          ]
        }
      ]
    },
    {
      "cell_type": "markdown",
      "source": [
        "\n",
        "\n",
        "---\n",
        "\n"
      ],
      "metadata": {
        "id": "fNJ1o8nk4zf0"
      }
    },
    {
      "cell_type": "markdown",
      "source": [
        "20.**How would you open a file and read its contents using a context manager in Python?**"
      ],
      "metadata": {
        "id": "ed4_5liz4zZe"
      }
    },
    {
      "cell_type": "code",
      "source": [
        "with open('file.txt', 'r') as file:\n",
        "    content = file.read()\n",
        "    print(content)"
      ],
      "metadata": {
        "id": "tfh0A1R04657",
        "colab": {
          "base_uri": "https://localhost:8080/"
        },
        "outputId": "d355b461-0bc6-48f9-93c1-d554966a2eae"
      },
      "execution_count": 36,
      "outputs": [
        {
          "output_type": "stream",
          "name": "stdout",
          "text": [
            "Hello, world!\n",
            "New line of text.\n",
            "New line of text.\n"
          ]
        }
      ]
    },
    {
      "cell_type": "markdown",
      "source": [],
      "metadata": {
        "id": "Xm6vX6BV47gP"
      }
    },
    {
      "cell_type": "markdown",
      "source": [
        "21.**Write a Python program that reads a file and prints the number of occurrences of a specific word.**"
      ],
      "metadata": {
        "id": "UCeIwBd-47Td"
      }
    },
    {
      "cell_type": "code",
      "source": [
        "def count_word_occurrences(file_path, word):\n",
        "    try:\n",
        "        with open(file_path, 'r') as file:\n",
        "            content = file.read()\n",
        "            word_count = content.lower().count(word.lower())\n",
        "            return word_count\n",
        "    except FileNotFoundError:\n",
        "        print(f\"File '{file_path}' not found.\")\n",
        "        return 0"
      ],
      "metadata": {
        "id": "g44Fkijl5EUK"
      },
      "execution_count": 37,
      "outputs": []
    },
    {
      "cell_type": "markdown",
      "source": [
        "\n",
        "\n",
        "---\n",
        "\n"
      ],
      "metadata": {
        "id": "YahSJSvZ5E-4"
      }
    },
    {
      "cell_type": "markdown",
      "source": [
        "22.**How can you check if a file is empty before attempting to read its contents?**"
      ],
      "metadata": {
        "id": "PPWEd-be5Ew3"
      }
    },
    {
      "cell_type": "code",
      "source": [
        "import os\n",
        "def is_file_empty(file_path):\n",
        "    try:\n",
        "        file_size = os.path.getsize(file_path)\n",
        "        if file_size == 0:\n",
        "           import os\n",
        "def is_file_empty(file_path):\n",
        "    try:\n",
        "        file_size = os.path.getsize(file_path)\n",
        "        if file_size == 0:\n",
        "            return True\n",
        "        else:\n",
        "            return False\n",
        "    except FileNotFoundError:\n",
        "        return True"
      ],
      "metadata": {
        "id": "c0xhdAcA5OHf",
        "colab": {
          "base_uri": "https://localhost:8080/",
          "height": 106
        },
        "outputId": "cea879b8-761b-45c7-8a39-83320513d6d8"
      },
      "execution_count": 41,
      "outputs": [
        {
          "output_type": "error",
          "ename": "SyntaxError",
          "evalue": "expected 'except' or 'finally' block (<ipython-input-41-2c6e4d3cea41>, line 7)",
          "traceback": [
            "\u001b[0;36m  File \u001b[0;32m\"<ipython-input-41-2c6e4d3cea41>\"\u001b[0;36m, line \u001b[0;32m7\u001b[0m\n\u001b[0;31m    def is_file_empty(file_path):\u001b[0m\n\u001b[0m                                 ^\u001b[0m\n\u001b[0;31mSyntaxError\u001b[0m\u001b[0;31m:\u001b[0m expected 'except' or 'finally' block\n"
          ]
        }
      ]
    },
    {
      "cell_type": "markdown",
      "source": [
        "\n",
        "\n",
        "---\n",
        "\n"
      ],
      "metadata": {
        "id": "oumo_f4a5OkP"
      }
    },
    {
      "cell_type": "markdown",
      "source": [
        "23.**Write a Python program that writes to a log file when an error occurs during file handling.**"
      ],
      "metadata": {
        "id": "gUfDTjWm5Oed"
      }
    },
    {
      "cell_type": "code",
      "source": [
        "import logging\n",
        "\n",
        "logging.basicConfig(filename='error.log', level=logging.ERROR)\n",
        "\n",
        "try:\n",
        "    with open('nonexistent_file.txt', 'r') as file:\n",
        "        content = file.read()\n",
        "except FileNotFoundError:\n",
        "    logging.error(\"File not found.\")\n",
        "    print(\"error\")\n",
        "else:\n",
        "    print(content)\n",
        "    print(\"error\")\n",
        "\n",
        "    logging.info(\"Program execution completed.\")\n",
        "\n",
        "\n",
        "\n"
      ],
      "metadata": {
        "id": "zA3Rmtpc6H06",
        "colab": {
          "base_uri": "https://localhost:8080/"
        },
        "outputId": "6cd90d73-88e3-402b-e737-a2b3b95cc031"
      },
      "execution_count": 42,
      "outputs": [
        {
          "output_type": "stream",
          "name": "stderr",
          "text": [
            "ERROR:root:File not found.\n"
          ]
        },
        {
          "output_type": "stream",
          "name": "stdout",
          "text": [
            "error\n"
          ]
        }
      ]
    }
  ]
}